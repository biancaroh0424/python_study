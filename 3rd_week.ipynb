{
 "cells": [
  {
   "cell_type": "markdown",
   "metadata": {},
   "source": [
    "# 변수의 사용"
   ]
  },
  {
   "cell_type": "markdown",
   "metadata": {},
   "source": [
    "**파이썬에서는 자동으로 변수의 타입이 할당된다.**"
   ]
  },
  {
   "cell_type": "code",
   "execution_count": null,
   "metadata": {},
   "outputs": [
    {
     "name": "stdout",
     "output_type": "stream",
     "text": [
      "a: 10  b: python c:1.34\n"
     ]
    }
   ],
   "source": [
    "a = 10\n",
    "b = \"python\"\n",
    "c = 1.34\n",
    "\n",
    "print(\"a: %d  b: %s c:%.2f\" %(a,b,c))"
   ]
  },
  {
   "cell_type": "markdown",
   "metadata": {},
   "source": [
    "**위에서 선언한 변수의 type을 알아보자**"
   ]
  },
  {
   "cell_type": "code",
   "execution_count": null,
   "metadata": {},
   "outputs": [
    {
     "data": {
      "text/plain": [
       "int"
      ]
     },
     "metadata": {},
     "output_type": "display_data"
    }
   ],
   "source": [
    "type(a)     # 변수 a의 데이터 타입\n"
   ]
  },
  {
   "cell_type": "code",
   "execution_count": null,
   "metadata": {},
   "outputs": [
    {
     "data": {
      "text/plain": [
       "str"
      ]
     },
     "metadata": {},
     "output_type": "display_data"
    }
   ],
   "source": [
    "type(b)     # 변수 b의 데이터 타입\n"
   ]
  },
  {
   "cell_type": "code",
   "execution_count": null,
   "metadata": {},
   "outputs": [
    {
     "data": {
      "text/plain": [
       "float"
      ]
     },
     "metadata": {},
     "output_type": "display_data"
    }
   ],
   "source": [
    "type(c)     # 변수 c의 데이터 타입\n"
   ]
  },
  {
   "cell_type": "markdown",
   "metadata": {},
   "source": [
    "**변수 선언의 규칙**"
   ]
  },
  {
   "cell_type": "code",
   "execution_count": null,
   "metadata": {},
   "outputs": [
    {
     "ename": "SyntaxError",
     "evalue": "invalid decimal literal (3961933888.py, line 1)",
     "output_type": "error",
     "traceback": [
      "\u001b[0;36m  Cell \u001b[0;32mIn[22], line 1\u001b[0;36m\u001b[0m\n",
      "\u001b[0;31m    1apple = 200     #변수의 첫 문자로는 숫자가 올 수 없다.\u001b[0m\n",
      "\u001b[0m    ^\u001b[0m\n",
      "\u001b[0;31mSyntaxError\u001b[0m\u001b[0;31m:\u001b[0m invalid decimal literal\n"
     ]
    }
   ],
   "source": [
    "1apple = 200     #변수의 첫 문자로는 숫자가 올 수 없다."
   ]
  },
  {
   "cell_type": "code",
   "execution_count": null,
   "metadata": {},
   "outputs": [
    {
     "ename": "SyntaxError",
     "evalue": "ignored",
     "output_type": "error",
     "traceback": [
      "\u001b[0;36m  File \u001b[0;32m\"<ipython-input-28-563084b3e606>\"\u001b[0;36m, line \u001b[0;32m1\u001b[0m\n",
      "\u001b[0;31m    if = 10\u001b[0m\n",
      "\u001b[0m       ^\u001b[0m\n",
      "\u001b[0;31mSyntaxError\u001b[0m\u001b[0;31m:\u001b[0m invalid syntax\n"
     ]
    }
   ],
   "source": [
    "if = 10      # 파이썬의 키워드를 변수명으로 사용할 수 없다."
   ]
  },
  {
   "cell_type": "code",
   "execution_count": null,
   "metadata": {},
   "outputs": [
    {
     "data": {
      "text/plain": [
       "10"
      ]
     },
     "metadata": {},
     "output_type": "display_data"
    }
   ],
   "source": [
    "Apple = 10    # 변수명의 첫문자로 대문자가 올 수는 있으나, 권장하지는 않는다.\n",
    "Apple"
   ]
  },
  {
   "cell_type": "markdown",
   "metadata": {},
   "source": [
    "# 파이썬 연산자"
   ]
  },
  {
   "cell_type": "code",
   "execution_count": null,
   "metadata": {},
   "outputs": [
    {
     "name": "stdout",
     "output_type": "stream",
     "text": [
      "a+b : c =13 \n",
      "a-b : c =7 \n",
      "a*b : c =30 \n",
      "a/b : c =3.333333 \n",
      "a//b : c =3 \n",
      "a%b : c =1 \n",
      "a**b : c =1000 \n"
     ]
    }
   ],
   "source": [
    "a = 10\n",
    "b = 3\n",
    "\n",
    "c = a+b                      # 더하기 연산\n",
    "print(\"a+b : c =%d \"%c)\n",
    "\n",
    "c = a-b                      # 빼기 연산\n",
    "print(\"a-b : c =%d \"%c)\n",
    "\n",
    "c = a*b                      # 곱하기 연산\n",
    "print(\"a*b : c =%d \"%c)\n",
    "\n",
    "c = a/b                      # 나누기 연산\n",
    "print(\"a/b : c =%f \"%c)     \n",
    "\n",
    "c = a//b                    # 정수 몫\n",
    "print(\"a//b : c =%d \"%c)\n",
    "\n",
    "c = a%b                    # 나머지 연산\n",
    "print(\"a%%b : c =%d \"%c)\n",
    "\n",
    "c = a**b                      # 누승 연산\n",
    "print(\"a**b : c =%d \"%c)"
   ]
  },
  {
   "cell_type": "markdown",
   "metadata": {},
   "source": [
    "**산술 연산자의 적용**"
   ]
  },
  {
   "cell_type": "code",
   "execution_count": null,
   "metadata": {},
   "outputs": [
    {
     "name": "stdout",
     "output_type": "stream",
     "text": [
      "total = 4500\n"
     ]
    }
   ],
   "source": [
    "hamburger = 2000    #햄버거 하나의 가격\n",
    "nHamburger = 2         #햄버거 구매 개수\n",
    "cola = 1000    # 콜라 하나의 가격\n",
    "nCola = 1        # 콜라 구매 개수\n",
    "discount = 0.1     # 통신사 할인율\n",
    "total = (cola*nCola+hamburger*nHamburger)*(1-discount)\n",
    "print(\"total = %d\"%total)"
   ]
  },
  {
   "cell_type": "code",
   "execution_count": null,
   "metadata": {},
   "outputs": [
    {
     "name": "stdout",
     "output_type": "stream",
     "text": [
      "이벤트 가능한 횟수 : 666 \n",
      "이벤트를 하기위해 채워야 하는 개수: 1 \n"
     ]
    }
   ],
   "source": [
    "nCola = 2000         #콜라 재고 개수\n",
    "nEvent = nCola // 3    # 2+1 이벤트 가능한 횟수\n",
    "print(\"이벤트 가능한 횟수 : %d \"%nEvent)\n",
    "N_lack_cola = 3-(nCola % 3)    #  2+1 이벤트를 하기 위해 채워야 하는 콜라 개수\n",
    "print(\"이벤트를 하기위해 채워야 하는 개수: %d \"%N_lack_cola)\n",
    "\n"
   ]
  },
  {
   "cell_type": "markdown",
   "metadata": {},
   "source": [
    "**관계 연산자**"
   ]
  },
  {
   "cell_type": "code",
   "execution_count": null,
   "metadata": {},
   "outputs": [
    {
     "name": "stdout",
     "output_type": "stream",
     "text": [
      "주류 판매가 가능한가요? False\n",
      "주류 판매가 가능한가요? True\n"
     ]
    }
   ],
   "source": [
    "age = 10\n",
    "print(\"주류 판매가 가능한가요?\",20<=age)    # False\n",
    "age = 20\n",
    "print(\"주류 판매가 가능한가요?\",20<=age)    # True"
   ]
  },
  {
   "cell_type": "markdown",
   "metadata": {},
   "source": [
    "**논리 연산자**"
   ]
  },
  {
   "cell_type": "code",
   "execution_count": null,
   "metadata": {},
   "outputs": [
    {
     "data": {
      "text/plain": [
       "True"
      ]
     },
     "metadata": {},
     "output_type": "display_data"
    }
   ],
   "source": [
    "year_of_birth = 77\n",
    "end_number = year_of_birth % 10 \n",
    "end_number == 2  or end_number == 7          # True\n"
   ]
  },
  {
   "cell_type": "markdown",
   "metadata": {},
   "source": [
    "# 복합대입 연산자"
   ]
  },
  {
   "cell_type": "markdown",
   "metadata": {},
   "source": [
    "편의점에서의 바코드 스캐닝을 통한 누적 금액 계산"
   ]
  },
  {
   "cell_type": "code",
   "execution_count": null,
   "metadata": {},
   "outputs": [
    {
     "data": {
      "text/plain": [
       "4500"
      ]
     },
     "metadata": {},
     "output_type": "display_data"
    }
   ],
   "source": [
    "total = 0\n",
    "cola = 1000\n",
    "hamburger = 2000\n",
    "milk = 1500\n",
    "## 바코드 스캐닝 시작\n",
    "total += cola\n",
    "total +=hamburger\n",
    "total += milk                      # total = total+cola+hamburger+milk\n",
    "\n",
    "total"
   ]
  },
  {
   "cell_type": "markdown",
   "metadata": {},
   "source": [
    "# 연산자 우선 순위"
   ]
  },
  {
   "cell_type": "markdown",
   "metadata": {},
   "source": [
    "햄버거 2개, 콜라 1개 – 10% 할인 적용"
   ]
  },
  {
   "cell_type": "code",
   "execution_count": null,
   "metadata": {},
   "outputs": [
    {
     "name": "stdout",
     "output_type": "stream",
     "text": [
      "total = 4500\n"
     ]
    }
   ],
   "source": [
    "hamburger = 2000    #햄버거 하나의 가격\n",
    "nHamburger = 2         #햄버거 구매 개수\n",
    "cola = 1000    # 콜라 하나의 가격\n",
    "nCola = 1        # 콜라 구매 개수\n",
    "discount = 0.1     # 통신사 할인율\n",
    "total = (cola*nCola+hamburger*nHamburger)*(1-discount)\n",
    "print(\"total = %d\"%total)\n"
   ]
  }
 ],
 "metadata": {
  "language_info": {
   "name": "python"
  }
 },
 "nbformat": 4,
 "nbformat_minor": 2
}
