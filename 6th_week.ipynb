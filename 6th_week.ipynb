{
 "cells": [
  {
   "cell_type": "markdown",
   "metadata": {},
   "source": [
    "<a href=\"https://colab.research.google.com/github/ykkim77/python_6th_week/blob/main/6th_week.ipynb\" target=\"_parent\"><img src=\"https://colab.research.google.com/assets/colab-badge.svg\" alt=\"Open In Colab\"/></a>"
   ]
  },
  {
   "cell_type": "markdown",
   "metadata": {},
   "source": [
    "조건문(if)은 왜 필요할까?\n",
    "사람의 혈압 데이터가 실시간으로 들어온다면?\n",
    "{'age': 25,\n",
    "'sex':M,\n",
    "'maxBP':130,\n",
    "'minBP':90}\n",
    "\n",
    "if 남성이라면 , 10대라면, 이런 기준을 놓고 이상현상을 감지할수 있게\n"
   ]
  },
  {
   "cell_type": "markdown",
   "metadata": {},
   "source": [
    "if와 else 를 사용한 조건문의 기본 구조\n",
    "if조건문: \n",
    "수행할 문장1\n",
    "수행할 문장2\n",
    "else:\n",
    "수행할 문장A\n",
    "수행할 문장B\n",
    "\n",
    "- 조건운이 참이면 if 블록 수행\n",
    "- 조건문이 거짓이면 else 블록 수행\n",
    "들여쓰기로 코드블록을 표현\n",
    "\n",
    "\n",
    "비교연산자를 통한 if 문 사용\n",
    "\n",
    "x<y x가 y보다 작다\n",
    "x>y x가 y보다 크다\n",
    "x==y x와 y가 같다\n",
    "x!=y x와 y가 같지 않다\n",
    "x>=y x가 y보다 크거나 같다\n",
    "x<=y x가 y보다 작거나 같다\n",
    "\n",
    "비교연산자 예시\n",
    "\n"
   ]
  },
  {
   "cell_type": "code",
   "execution_count": null,
   "metadata": {},
   "outputs": [
    {
     "name": "stdout",
     "output_type": "stream",
     "text": [
      "if 문 수행!\n"
     ]
    }
   ],
   "source": [
    "x=3\n",
    "y=2\n",
    "x>y\n",
    "\n",
    "\n",
    "if(x>y):\n",
    "    print(\"if 문 수행!\")"
   ]
  },
  {
   "cell_type": "markdown",
   "metadata": {},
   "source": [
    "if, else 를 활용한 조건문 사용\n",
    "만약 3000원 이상의 돈을 가지고 있으면 \n",
    "택시를 타고 그렇지 않으면 걸어가라"
   ]
  },
  {
   "cell_type": "code",
   "execution_count": null,
   "metadata": {},
   "outputs": [
    {
     "name": "stdout",
     "output_type": "stream",
     "text": [
      "걸어가라\n"
     ]
    }
   ],
   "source": [
    "money=2000\n",
    "if money>=3000:\n",
    "    print (\"택시를 타고 가라\")\n",
    "else:\n",
    "    print(\"걸어가라\")"
   ]
  },
  {
   "cell_type": "markdown",
   "metadata": {},
   "source": [
    "elif 사용법\n",
    "주머니에 돈이 있으면 택시를 타고,\n",
    "주머니에 돈은 없지만 카드가 있으면 택시를 타고,\n",
    "돈도 없고, 카드도 없으면 걸어가라"
   ]
  },
  {
   "cell_type": "code",
   "execution_count": null,
   "metadata": {},
   "outputs": [
    {
     "name": "stdout",
     "output_type": "stream",
     "text": [
      "걸어가셈\n"
     ]
    }
   ],
   "source": [
    "pocketMoney = False\n",
    "hasCard  = False\n",
    "\n",
    "\n",
    "if pocketMoney == True:\n",
    "    print(\"택시를 타셈\")\n",
    "elif hasCard == True:\n",
    "    print(\"택시를 타셈\")\n",
    "else:\n",
    "    print(\"걸어가셈\")\n",
    "    "
   ]
  },
  {
   "cell_type": "markdown",
   "metadata": {},
   "source": [
    "elif 가 없다면?\n",
    "- if 와 else 만으로는 이해하기 어렵고 산만한 느낌\n"
   ]
  },
  {
   "cell_type": "code",
   "execution_count": null,
   "metadata": {},
   "outputs": [
    {
     "name": "stdout",
     "output_type": "stream",
     "text": [
      "택시타고 가셈\n"
     ]
    }
   ],
   "source": [
    "pocket = ['paper', 'cellphone']\n",
    "card = True\n",
    "if 'money' in pocket:\n",
    "    print(\"택시타고 가셈\")\n",
    "elif card:\n",
    "    print(\"택시타고 가셈\")\n",
    "else: \n",
    "    print(\"걸어가셈\")"
   ]
  },
  {
   "cell_type": "markdown",
   "metadata": {},
   "source": [
    "elif 는 개수에 제한없이 사용 가능\n"
   ]
  },
  {
   "cell_type": "markdown",
   "metadata": {},
   "source": [
    "- 혈압 데이터의 정상유무 판별\n",
    "프로그래밍 방법\n",
    "- value 값에 해당하는것은 키보드 입력\n",
    "{'age': 25, 'sex':'M', 'maxBP': 130, 'minBP': 90}\n",
    "\n",
    "age= input() => 하면 키보드 입력 가능"
   ]
  },
  {
   "cell_type": "code",
   "execution_count": null,
   "metadata": {},
   "outputs": [
    {
     "name": "stdout",
     "output_type": "stream",
     "text": [
      "나이를 잘못 입력하였습니다.\n"
     ]
    }
   ],
   "source": [
    "age = -15\n",
    "\n",
    "if age >= 10 and age <20:\n",
    "    print(\"청소년 입니다.\")\n",
    "elif age >=0 and age <10:\n",
    "    print(\"영유아 입니다.\")\n",
    "elif age >=20:\n",
    "    print(\"성인입니다.\")\n",
    "else:\n",
    "    print(\"나이를 잘못 입력하였습니다.\") \n",
    "    # 나이에 대한 예외 처리"
   ]
  },
  {
   "cell_type": "markdown",
   "metadata": {},
   "source": [
    "# 조건문 기본\n"
   ]
  },
  {
   "cell_type": "code",
   "execution_count": null,
   "metadata": {},
   "outputs": [
    {
     "name": "stdout",
     "output_type": "stream",
     "text": [
      "청소년입니다. \n"
     ]
    }
   ],
   "source": [
    "age = 15\n",
    "\n",
    "if age >= 10 and age <20:\n",
    "    print(\"청소년입니다. \")\n",
    "elif age>= 0 and age<10:\n",
    "    print(\"영유아입니다.\")\n",
    "elif age>= 20:\n",
    "    print(\"성인입니다.\")\n",
    "else:\n",
    "    print(\"나이를 잘못 입력하였습니다.\") # 나이에 대한 예외처리"
   ]
  },
  {
   "cell_type": "code",
   "execution_count": null,
   "metadata": {},
   "outputs": [
    {
     "name": "stdout",
     "output_type": "stream",
     "text": [
      "당신의 나이를 입력하세요\n"
     ]
    }
   ],
   "source": [
    "bloodPressure = {}\n",
    "\n",
    "print(\"당신의 나이를 입력하세요\")\n"
   ]
  },
  {
   "cell_type": "code",
   "execution_count": null,
   "metadata": {},
   "outputs": [],
   "source": [
    "bloodPressure['age'] = int(input())"
   ]
  },
  {
   "cell_type": "code",
   "execution_count": null,
   "metadata": {},
   "outputs": [],
   "source": [
    "print(bloodPressure)"
   ]
  },
  {
   "cell_type": "code",
   "execution_count": null,
   "metadata": {},
   "outputs": [
    {
     "name": "stdout",
     "output_type": "stream",
     "text": [
      "당신의 성별을 입력하세요: 예) 남성: M, 여성: F\n"
     ]
    }
   ],
   "source": [
    "print(\"당신의 성별을 입력하세요: 예) 남성: M, 여성: F\")\n",
    "bloodPressure['sex'] = input()"
   ]
  },
  {
   "cell_type": "code",
   "execution_count": null,
   "metadata": {},
   "outputs": [
    {
     "name": "stdout",
     "output_type": "stream",
     "text": [
      "{'age': 25, 'sex': 'F', 'minBP': 10, 'maxBP': 900}\n"
     ]
    }
   ],
   "source": [
    "print(bloodPressure)"
   ]
  },
  {
   "cell_type": "code",
   "execution_count": null,
   "metadata": {},
   "outputs": [
    {
     "name": "stdout",
     "output_type": "stream",
     "text": [
      "최고 혈압을 입력하세요: \n",
      "{'age': 25, 'sex': 'F', 'minBP': 10, 'maxBP': 900}\n"
     ]
    }
   ],
   "source": [
    "print(\"최고 혈압을 입력하세요: \")\n",
    "bloodPressure['maxBP'] = int(input())\n",
    "print(bloodPressure)"
   ]
  },
  {
   "cell_type": "code",
   "execution_count": null,
   "metadata": {},
   "outputs": [
    {
     "name": "stdout",
     "output_type": "stream",
     "text": [
      "최저혈압을 입력하세요: \n",
      "{'age': 25, 'sex': 'F', 'minBP': 10}\n"
     ]
    }
   ],
   "source": [
    "print(\"최저혈압을 입력하세요: \")\n",
    "bloodPressure['minBP']= int(input())\n",
    "print(bloodPressure)"
   ]
  },
  {
   "cell_type": "markdown",
   "metadata": {},
   "source": [
    "# 정상 혈압 유무 판단"
   ]
  },
  {
   "cell_type": "markdown",
   "metadata": {},
   "source": [
    "**정상 혈압 **    \n",
    "\n",
    "\n",
    "![Cap 2021-03-12 03-37-17-371.png](data:image/png;base64,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)\n"
   ]
  },
  {
   "cell_type": "markdown",
   "metadata": {},
   "source": [
    "**딕셔너리 형태로 변수 선언**"
   ]
  },
  {
   "cell_type": "code",
   "execution_count": null,
   "metadata": {},
   "outputs": [
    {
     "name": "stdout",
     "output_type": "stream",
     "text": [
      "{}\n"
     ]
    }
   ],
   "source": [
    "bloodPressure={}\n",
    "print(bloodPressure)"
   ]
  },
  {
   "cell_type": "markdown",
   "metadata": {},
   "source": [
    "**나이 입력 받기**"
   ]
  },
  {
   "cell_type": "code",
   "execution_count": null,
   "metadata": {},
   "outputs": [
    {
     "name": "stdout",
     "output_type": "stream",
     "text": [
      "당신의 나이를 입력하세요\n"
     ]
    }
   ],
   "source": [
    "print(\"당신의 나이를 입력하세요\")   # 나이 입력\n",
    "bloodPressure['age'] = int(input())"
   ]
  },
  {
   "cell_type": "code",
   "execution_count": null,
   "metadata": {},
   "outputs": [],
   "source": [
    "print(bloodPressure)"
   ]
  },
  {
   "cell_type": "markdown",
   "metadata": {},
   "source": [
    "**성별 입력**"
   ]
  },
  {
   "cell_type": "code",
   "execution_count": null,
   "metadata": {},
   "outputs": [
    {
     "name": "stdout",
     "output_type": "stream",
     "text": [
      "당신의 성별을 입력하세요 : 예: 남성- M, 여성-F\n",
      "M\n"
     ]
    }
   ],
   "source": [
    "print(\"당신의 성별을 입력하세요 : 예: 남성- M, 여성-F\")   # 성별 입력\n",
    "bloodPressure['sex'] = input()"
   ]
  },
  {
   "cell_type": "code",
   "execution_count": null,
   "metadata": {},
   "outputs": [
    {
     "name": "stdout",
     "output_type": "stream",
     "text": [
      "{'age': 25, 'sex': 'M'}\n"
     ]
    }
   ],
   "source": [
    "print(bloodPressure)"
   ]
  },
  {
   "cell_type": "markdown",
   "metadata": {},
   "source": [
    "**최고 혈압입력**"
   ]
  },
  {
   "cell_type": "code",
   "execution_count": null,
   "metadata": {},
   "outputs": [
    {
     "name": "stdout",
     "output_type": "stream",
     "text": [
      "최고 혈압을 입력하세요 : \n",
      "100\n"
     ]
    }
   ],
   "source": [
    "print(\"최고 혈압을 입력하세요 : \")   # 최고 혈압 입력\n",
    "bloodPressure['maxBP'] = int(input())"
   ]
  },
  {
   "cell_type": "markdown",
   "metadata": {},
   "source": [
    "**최저 혈압 입력**\n",
    "\n"
   ]
  },
  {
   "cell_type": "code",
   "execution_count": null,
   "metadata": {},
   "outputs": [
    {
     "name": "stdout",
     "output_type": "stream",
     "text": [
      "최저 혈압을 입력하세요 : \n",
      "63\n"
     ]
    }
   ],
   "source": [
    "print(\"최저 혈압을 입력하세요 : \")   # 최저 혈압 입력\n",
    "bloodPressure['minBP'] = int(input())"
   ]
  },
  {
   "cell_type": "code",
   "execution_count": null,
   "metadata": {},
   "outputs": [
    {
     "name": "stdout",
     "output_type": "stream",
     "text": [
      "{'age': 25, 'sex': 'M', 'maxBP': 100, 'minBP': 63}\n"
     ]
    }
   ],
   "source": [
    "print(bloodPressure)"
   ]
  },
  {
   "cell_type": "markdown",
   "metadata": {},
   "source": [
    "**입력된 데이터 확인**"
   ]
  },
  {
   "cell_type": "code",
   "execution_count": null,
   "metadata": {},
   "outputs": [],
   "source": [
    "print(bloodPressure)"
   ]
  },
  {
   "cell_type": "markdown",
   "metadata": {},
   "source": [
    "**정상 혈압 판별**  \n",
    "(10살 이하 나이에 대해서는 예외처리)"
   ]
  },
  {
   "cell_type": "code",
   "execution_count": null,
   "metadata": {},
   "outputs": [
    {
     "name": "stdout",
     "output_type": "stream",
     "text": [
      "비정상 혈압입니다. 정밀 검사가 필요합니다\n"
     ]
    }
   ],
   "source": [
    "if (bloodPressure['age'] >= 10 and bloodPressure['age'] < 20):  # 10대\n",
    "    if(bloodPressure['sex'] == 'M'):\n",
    "        if(bloodPressure['maxBP']<102 and bloodPressure['minBP']<64):\n",
    "            print(\"정상 혈압입니다.\")\n",
    "        else:\n",
    "            print(\"비정상 혈압입니다. 정밀 검사가 필요합니다\")\n",
    "    elif (bloodPressure['sex'] == 'F'):\n",
    "        if(bloodPressure['maxBP']<98 and bloodPressure['minBP']<62):\n",
    "            print(\"정상 혈압입니다.\")\n",
    "        else:\n",
    "            print(\"비정상 혈압입니다. 정밀 검사가 필요합니다\")\n",
    "    else:\n",
    "        print(\"성별을 잘못 입력하였습니다.\")    # 성별에 대한 예외 처리\n",
    "\n",
    "elif (bloodPressure['age'] >= 20  ): # 20대 이상\n",
    "\n",
    "    if(bloodPressure['sex'] == 'M'):\n",
    "        if(bloodPressure['maxBP']<120 and bloodPressure['minBP']<80):\n",
    "            print(\"정상 혈압입니다.\")\n",
    "        else:\n",
    "            print(\"비정상 혈압입니다. 정밀 검사가 필요합니다\")\n",
    "    elif (bloodPressure['sex'] == 'F'):\n",
    "        if(bloodPressure['maxBP']<115 and bloodPressure['minBP']<75):\n",
    "            print(\"정상 혈압입니다.\")\n",
    "        else:\n",
    "            print(\"비정상 혈압입니다. 정밀 검사가 필요합니다\")\n",
    "    else:\n",
    "        print(\"성별을 잘못 입력하였습니다.\")   # 성별에 대한 예외 처리\n",
    "else:\n",
    "    print( \"나이를 잘못 입력하였습니다.\")       # 나이에 대한 예외 처리\n"
   ]
  },
  {
   "cell_type": "code",
   "execution_count": null,
   "metadata": {},
   "outputs": [
    {
     "name": "stdout",
     "output_type": "stream",
     "text": [
      "나이를 잘못 입력 하셨습니다.\n"
     ]
    }
   ],
   "source": [
    "age= -10\n",
    "if(age>=20):\n",
    "    print(\"주류 판매가 가능합니다.\")\n",
    "elif(age<=20 and age>=0):\n",
    "    print(\"주류 판매가 불가능 합니다.\")\n",
    "else:\n",
    "    print(\"나이를 잘못 입력 하셨습니다.\")"
   ]
  }
 ],
 "metadata": {
  "language_info": {
   "name": "python"
  }
 },
 "nbformat": 4,
 "nbformat_minor": 2
}
