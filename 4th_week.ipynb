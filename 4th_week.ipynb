{
 "cells": [
  {
   "cell_type": "code",
   "execution_count": null,
   "metadata": {},
   "outputs": [],
   "source": []
  },
  {
   "cell_type": "markdown",
   "metadata": {},
   "source": [
    "<a href=\"https://colab.research.google.com/github/ykkim77/python-4th-week/blob/main/python_programming_4th.ipynb\" target=\"_parent\"><img src=\"https://colab.research.google.com/assets/colab-badge.svg\" alt=\"Open In Colab\"/></a>"
   ]
  },
  {
   "cell_type": "markdown",
   "metadata": {},
   "source": [
    "변수의 개념 및 사용\n",
    "- 변수는 데이터를 저장하는 메모리 공간\n",
    "- 변수의 데이터는 언제든 변경가능\n",
    "- 변수명으로 키워드는 사용 불가\n",
    "- 변수명은 숫자로 시작할수 없다.\n",
    "\n",
    "파이썬 연산자 \n",
    "- 연산자에는 산술연산자, 관계연산자, 논리연산자, 복합대입 연산자 등이 있다.\n",
    "- 연산자 우선순위에 의해 연산이 수행된다.\n",
    "\n",
    "\n",
    "학습목표\n",
    "- 데이터타입의 개녕정의\n",
    "- 숫자형을 이해하고 설명 할수 있다.\n",
    "- 문자열 자료형을 이해하고 설명할수 있다.\n",
    "- 리스트 자료형을 이해하고 설명할 수 있다."
   ]
  },
  {
   "cell_type": "markdown",
   "metadata": {},
   "source": [
    "1. 데이터타입의 개념\n",
    "- 데이터를 저장하는 방식\n",
    "- 변수의 데이터타입에 따라 데이터를 저장하는 방식이 각기 다름\n",
    "- 데이터 타입에 대한 명시가 없어도 데이터 타입을 자동으로 할당한다.\n",
    "\n",
    "\n",
    "데이터 타입의 종류\n",
    "1. 숫자형: 1,2,3\n",
    "2. 문자열 자료형 :\"hello world\"\n",
    "3. 리스트 자료형 : [1,2,3,4,\"영수\",\"영자\"]\n",
    "4. 딕셔너리 자료형 : {\"속성\":\"값\", \"name\":\"youngja\"}\n",
    "5. 집합자료형 : set([1,2,3,4,5])\n",
    "6. 불 자료형: True or False\n"
   ]
  },
  {
   "cell_type": "markdown",
   "metadata": {},
   "source": [
    "데이터타입의 사용방법\n",
    "변수명 = 데이터입력\n",
    "a=1             숫자형\n",
    "b=\"python\"      문자형\n",
    "c=[1,2,3,4]     리스트형\n",
    "\n",
    "파이썬에서 자동으로 할당"
   ]
  },
  {
   "cell_type": "markdown",
   "metadata": {},
   "source": [
    "숫자형(Number)이란?\n",
    "- 숫자 형태로 이루어진 자료형\n",
    "<table>\n",
    "<tr>\n",
    "<td>\n",
    "항목\n",
    "</td>\n",
    "<td>\n",
    "파이썬 사용예\n",
    "</td>\n",
    "</tr>\n",
    "<tr>\n",
    "<td>\n",
    "정수\n",
    "</td>\n",
    "<td>\n",
    "123,-345,0\n",
    "</td>\n",
    "</tr>\n",
    "<tr>\n",
    "<td>\n",
    "실수\n",
    "</td>\n",
    "<td>\n",
    "123.45ㅡ -123.3 , 3.4ㄷ10\n",
    "</td>\n",
    "</tr>\n",
    "<tr>\n",
    "<td>\n",
    "8진수\n",
    "</td>\n",
    "<td>\n",
    "0o34, 0o25\n",
    "</td>\n",
    "</tr>\n",
    "<tr>\n",
    "<td>\n",
    "16진수\n",
    "</td>\n",
    "<td>\n",
    "0x2A, 0xFF\n",
    "</td>\n",
    "</tr>\n",
    "</table>"
   ]
  },
  {
   "cell_type": "markdown",
   "metadata": {},
   "source": [
    "- 정수형(Integer)\n",
    "정수를 뜻하는 자료형\n",
    "a=1\n",
    "a=-127\n",
    "a=0\n",
    "\n",
    "- 실수형(Floating-point)\n",
    "소수점이 포함된 숫자\n",
    "a=1.2               a=4.24e10\n",
    "a=-3.24             a-4.24e-10\n",
    "\n",
    "- 8진수(Octal)\n",
    "숫자 0+알파벳 소문자\n",
    "o또는 대문자 O\n",
    "\n",
    "- 16진수(Hexadecimal)\n",
    "숫자 0 + 알파벳 소문자 x\n",
    "a= 0x8ff\n",
    "b- 0xABC\n",
    "\n",
    "- 사칙연산이 포함된 숫자\n",
    "a=3\n",
    "b=4\n",
    "a=a+b\n",
    "//7\n",
    "\n",
    "- ***연산자: 제곱\n",
    "a=3\n",
    "b-4\n",
    "a**b\n",
    "//81\n",
    "\n",
    "- //연산자: 나눗셈 후 몫 반환\n",
    "a=7//4\n",
    "1\n",
    "\n",
    "- %연산자: 나눗셈 후 나머지 반환\n",
    "7%3\n",
    "1\n",
    "\n"
   ]
  },
  {
   "cell_type": "markdown",
   "metadata": {},
   "source": [
    "문자열(String)이란?\n",
    "\n",
    "- 문자, 단어 등으로 구성된 문자들의 집합\n",
    "\"Life is short, You need Python\"\n",
    "\"a\"\n",
    "\"123\"\n",
    "\n",
    "문자열 만드는 방법\n",
    "\"Hello world\"\n",
    "'Hello world'\n",
    "\"\"\"Hello world\"\"\"\n",
    "'''Hello world'''\n",
    "\n",
    "\n",
    "- 여러줄인 문자열을 변수에 대입하고 싶을때\n",
    "- 이스케이프 코드 ₩n 삽입\n",
    "- 작은 따옴표, 큰따옴표 3개를 사용하면 줄바꿈 자동인식\n",
    "\n",
    "- 문자열 더해서 연결하기(Concatenation)\n",
    "1. head = \"python\"\n",
    "2. tail = \" is fun!\"\n",
    "3. head+tail\n",
    "\"python is fun!\"\n",
    "\n",
    "- 문자열 곱하기\n",
    "a = \"python\"\n",
    "a*2\n",
    "\"pythonpython\"\n",
    "\n",
    "- 문자열 길이 구하기\n",
    "1. 파이썬 내장 함수 len()\n",
    "a= \"Life is too short\"\n",
    "len(a)\n",
    "17\n",
    "\n",
    "- 문자열 인덱싱\n",
    "가르킨다 라는 의미, 인덱스는 0부터 시작\n",
    "a[인덱스 번호]: 문자열 안의 특정 값을 뽑아냄\n",
    "a[-인덱스 번호]: 문자열 뒤부터 인덱스를 셈\n",
    "\n",
    "- 슬라이싱(Slicing)\n",
    "잘라낸다는 의미\n",
    "a[시작번호: 끝번호]\n",
    "시작번호부터 끝번호 전까지의 문자를 뽑아냄\n",
    "\n",
    "\n",
    "- 문자열 Formatting\n",
    "1. 숫자 바로 대입(문자열 format 코드 %d)\n",
    "\"I eat %d apples\" %3\n",
    "'I eat 3 apples'\n",
    "\n",
    "1-1. number = 3\n",
    "\"I eat %d apples \" %number\n",
    "'I eat 3 apples'\n",
    "\n",
    "2. 숫자 바로 대입(문자열 format 코드 %d)\n",
    "\n",
    "2-2. 문자열 바로 대입(문자열 format 코드 %s)\n",
    "\"I eat %s apples\" %\"five\"\n",
    "'I eat five apples'\n",
    "\n",
    "- 문자열 format 코드\n",
    "%s\n",
    "%c\n",
    "%d\n",
    "%f\n",
    "%o\n",
    "%x\n",
    "%%\n",
    "\n",
    "num = 10\n",
    "day = \"three\"\n",
    "\n",
    "\"I ate %d apples. so I was sick for %s days\"%(num, day)\n",
    "'I ate 10 apples. so I was sick for three days'"
   ]
  },
  {
   "cell_type": "markdown",
   "metadata": {},
   "source": [
    "- 문자열 format 코드 활용법\n",
    "1. 정렬과 공백\n",
    "%s 를 숫자와 함께 사용하면 공백과 정렬 표현 가능\n",
    "\"%10s\"%\"hi\"\n",
    " = \"           hi\"\n",
    "\n",
    "\"%-10sjasne\" %\"hi\"\n",
    "\n",
    "\"hi               jane\"\n",
    "\n",
    "2. 소수점 표현하기\n",
    "- %f를 숫자화 함께 사용하면, 소수점 뒤에 나올 숫자의 개수 조절 및 정렬 가능\n",
    ": \"%0.4f\" %3.42134234\n",
    "= \"3.42134\"\n",
    "\n",
    "\n",
    "3. f 문자열 formatting\n",
    "- 파이썬 3.6버전 부터 f 문자열 format 기능 제공\n",
    "- 문자열 앞에 f 접두사를 붙이면 f 문자열 format 기능 사용 가능\n",
    "\n",
    "name=\"홍길동\"\n",
    "age=30\n",
    "f'나의 이름은 {name} 입니다. 나이는 {age} 입니다.'\n",
    "= '나의 이름은 홍길동 입니다. 나이는 30 입니다.'\n",
    "f'나는 내년이면 {age+1}살이 된다.'\n",
    "= '나는 내년이면 31살이 된다.'"
   ]
  },
  {
   "cell_type": "markdown",
   "metadata": {},
   "source": [
    "문자열 자료형이 가진 내장 함수\n",
    "1. count(): 문자 개수를 세는 함수\n",
    "a=\"hobbby\"\n",
    "a.count('b')\n",
    "\n",
    "2. join(): 문자열 삽입\n",
    "\",\".join(\"abcd\")\n",
    "'a','b','c','d'\n",
    "\n",
    "3. find(): 찾는 문자열이 처음 나온 위치를 반환\n",
    "a=\"Pyhon is best choice\"\n",
    "a.find('b')\n",
    "10\n",
    "\n",
    "4. upper() 소문자를 대문자로/ lower(): 대문자를 소문자로\n",
    "a=\"hi\"\n",
    "a.upper()\n",
    "\"HI\"\n",
    "\n",
    "b=\"HI\"\n",
    "a.lower()\n",
    "\"hi\"\n",
    "\n",
    "\n",
    "5. replace(): 문자열 안의 특정 다른 값으로 치환\n",
    "- replace(바뀌게 될 문자열, 바꿀 문자열)\n",
    "\n",
    "6. split(): 공백 또는 특정 문자열을 구분자로 해서 문자열 분리\n",
    "a= \"Life is too short\"\n",
    "a=split( )\n",
    "['Life','is','too','short']\n",
    "\n"
   ]
  },
  {
   "cell_type": "markdown",
   "metadata": {},
   "source": [
    "List 란?\n",
    "- 자료형의 집합을 표현할 수 있는 자료형\n",
    "odd=[1,3,5,7,9]\n",
    "\n",
    "- 숫자와 문자열 만으로 프로그래밍 하기에는 부족한 점이 많음\n",
    "- 기존에 데이터가 저장된 상황에서 특정 데이터를 추가, 삭제, 검색하기에 용이함\n",
    "\n",
    "리스트 사용법\n",
    ": 대괄호 로 감싸고 요솟값은 쉽표로 구분\n",
    "a=[]\n",
    "b=[1,2,3,4]\n",
    "c=[\"Life\",\"is\"]\n",
    "d=[1,2,\"Life\",\"is\"]\n",
    "e=[1,2,['life','is']]\n",
    "\n",
    "리스트 인덱싱\n",
    "문자열과 같이 인덱싱 적용 가능\n",
    "리스트 a를 정의\n",
    "a=[1,2,3]\n",
    "a\n",
    "[1,2,3]\n",
    "\n",
    "\n",
    "a[-1]은 리스트 a 의 마지막 요솟값\n",
    "a[-1]\n",
    "3\n",
    "\n",
    "더하기(+)\n",
    "a=[1,2,3]\n",
    "b=[4,5,6]\n",
    "a+b\n",
    "[1,2,3,4,5,6]\n",
    "\n",
    "반복하기(*)\n",
    "a=[1,2,3]\n",
    "a*3\n",
    "[1,2,3,1,2,3,1,2,3]\n",
    "\n",
    "\n",
    "리스트 값 수정하기\n",
    "a=[1,2,3]\n",
    "a[2]=4\n",
    "a\n",
    "[1,2,4]\n",
    "\n",
    "리스트 요소 삭제하기\n",
    "a=[1,2,3]\n",
    "del a[1]\n",
    "[1,3]\n",
    "a=[1,2,3,4,5]\n",
    "del:a[2:]\n",
    "a\n",
    "[1,2]\n",
    "\n",
    "리스트 관련 함수\n",
    "append(): 리스트의 맨 마지막에 요소 추가\n",
    "a=[1,2,3]\n",
    "a.append(4)\n",
    "[1,2,3,4]\n",
    "\n",
    "index(): 요소를 검색하여 위치 값 반환\n",
    "\n",
    "sort(): 리스트의 요소를 순서대로 정렬\n",
    "\n",
    "reverse(): 리스트를 역순으로 뒤집어줌\n",
    "\n",
    "insert(): 리스트에 요소 삽입\n",
    "\n",
    "count(): 리스트에 포함된 요소의 개수 반환\n",
    "\n",
    "remove(): 리스트에서 첫번째로 나오는 데이터를 삭제\n",
    "\n",
    "extend(): 리스트에 리스트를 더하는 함수\n",
    "a=[1,2,3]\n",
    "a.extend(4,5)\n",
    "a\n",
    "[1,2,3,4,5]\n",
    "b=[6,7]\n",
    "a.extend(b)\n",
    "a\n",
    "[1,2,3,4,5,6,7]\n"
   ]
  },
  {
   "cell_type": "markdown",
   "metadata": {},
   "source": [
    "# 숫자형 Data Type"
   ]
  },
  {
   "cell_type": "markdown",
   "metadata": {},
   "source": [
    "**정수형 데이터 타입**"
   ]
  },
  {
   "cell_type": "code",
   "execution_count": null,
   "metadata": {},
   "outputs": [
    {
     "name": "stdout",
     "output_type": "stream",
     "text": [
      "a =  1\n",
      "<class 'int'>\n",
      "b =  -178\n",
      "<class 'int'>\n"
     ]
    }
   ],
   "source": [
    "a = 1    \n",
    "print(\"a = \",a)\n",
    "print(type(a))     # a의 data type을 확인해 보면, int type이라는 것을 확인할 수 있음\n",
    "b = -178\n",
    "print(\"b = \",b) \n",
    "print(type(b))     # b의 data type을 확인해 보면, int type이라는 것을 확인할 수 있음"
   ]
  },
  {
   "cell_type": "markdown",
   "metadata": {},
   "source": [
    "**실수형 데이터 타입**"
   ]
  },
  {
   "cell_type": "code",
   "execution_count": null,
   "metadata": {},
   "outputs": [
    {
     "name": "stdout",
     "output_type": "stream",
     "text": [
      "a =  1.2\n",
      "<class 'float'>\n",
      "b =  42400000000.0\n",
      "<class 'float'>\n"
     ]
    }
   ],
   "source": [
    "a = 1.2\n",
    "print(\"a = \",a)       \n",
    "print(type(a))           # a의 data type을 확인해 보면, float type이라는 것을 확인할 수 있음\n",
    "\n",
    "b = 4.24E10\n",
    "print(\"b = \",b)\n",
    "print(type(b))          # b의 data type을 확인해 보면, float type이라는 것을 확인할 수 있음\n"
   ]
  },
  {
   "cell_type": "markdown",
   "metadata": {},
   "source": [
    "**8진수(octal)**"
   ]
  },
  {
   "cell_type": "code",
   "execution_count": null,
   "metadata": {},
   "outputs": [
    {
     "name": "stdout",
     "output_type": "stream",
     "text": [
      "375\n",
      "2303\n"
     ]
    }
   ],
   "source": [
    "a= 0x177            # a를 8진수로 입력\n",
    "print(a)            # a를 10진수로 출력\n",
    "\n",
    "b = 0x8ff          # b를 16진수로 입력\n",
    "print(b)           # b를 10진수로 출력 "
   ]
  },
  {
   "cell_type": "markdown",
   "metadata": {},
   "source": [
    "**사칙 연산이 포함된 숫자**"
   ]
  },
  {
   "cell_type": "code",
   "execution_count": null,
   "metadata": {},
   "outputs": [
    {
     "name": "stdout",
     "output_type": "stream",
     "text": [
      "a+b =  7\n",
      "a*b =  12\n",
      "a/b =  0.75\n",
      "a**b =  81\n"
     ]
    }
   ],
   "source": [
    "a = 3\n",
    "b = 4\n",
    "\n",
    "print (\"a+b = \",a+b)           # 더하기 연산\n",
    "print (\"a*b = \",a*b)           # 곱하기 연산\n",
    "print (\"a/b = \",a/b)           # 나누기 연산\n",
    "print (\"a**b = \",a**b)         # 누승 연산\n",
    "print (\"a//b = \",a//b)\n",
    "print (\"a%b = \",a%b)"
   ]
  },
  {
   "cell_type": "markdown",
   "metadata": {},
   "source": [
    "# 문자열 자료형"
   ]
  },
  {
   "cell_type": "markdown",
   "metadata": {},
   "source": [
    "문자열 자료형의 다양한 표현 방법"
   ]
  },
  {
   "cell_type": "code",
   "execution_count": null,
   "metadata": {},
   "outputs": [
    {
     "name": "stdout",
     "output_type": "stream",
     "text": [
      "Hello Wolrd\n",
      "Hello Wolrd\n",
      "\n",
      "      python is fun       \n",
      "      \n",
      "\n",
      "      Life is too short, You need python       \n",
      "      \n"
     ]
    }
   ],
   "source": [
    "print(\"Hello Wolrd\")       # \" \" 큰 따옴표로 감싸는 문자열\n",
    "print('Hello Wolrd')       # ' ' 작은 따옴표로 감싸는 문자열\n",
    "print(\"\"\"\n",
    "      python is fun       \n",
    "      \"\"\" )                # \"\"\" 큰 따옴표 3개로 감싸는 문자열\n",
    "print('''\n",
    "      Life is too short, You need python       \n",
    "      ''' )                # ''' 작은 따옴표 3개로 감싸는 문자열      "
   ]
  },
  {
   "cell_type": "markdown",
   "metadata": {},
   "source": [
    "**문자열에서 줄바꿈을 표현하는 방법**"
   ]
  },
  {
   "cell_type": "code",
   "execution_count": null,
   "metadata": {},
   "outputs": [
    {
     "name": "stdout",
     "output_type": "stream",
     "text": [
      "Life is too short\n",
      " You need python\n",
      "\n",
      "Life is too short\n",
      "You need python\n",
      "\n",
      "\n",
      "Life is too short\n",
      "You need python\n",
      "\n"
     ]
    }
   ],
   "source": [
    "multiline = \"Life is too short\\n You need python\"     # \\n 기호는 줄바꿈을 의미한다.\n",
    "print(multiline)\n",
    "multiline = \"\"\"\n",
    "Life is too short\n",
    "You need python\n",
    "\"\"\"                                 # \"\"\" 기호는 문자열의 줄바꿈을 인식하여 데이터를 저장\n",
    "print(multiline)\n",
    "multiline = '''\n",
    "Life is too short\n",
    "You need python\n",
    "'''                                 # ''' 기호는 문자열의 줄바꿈을 인식하여 데이터를 저장\n",
    "print(multiline)"
   ]
  },
  {
   "cell_type": "markdown",
   "metadata": {},
   "source": [
    "**문자열 연산**"
   ]
  },
  {
   "cell_type": "code",
   "execution_count": null,
   "metadata": {},
   "outputs": [
    {
     "name": "stdout",
     "output_type": "stream",
     "text": [
      "python is fun\n",
      "pythonpythonpython\n"
     ]
    },
    {
     "data": {
      "text/plain": [
       "17"
      ]
     },
     "metadata": {},
     "output_type": "display_data"
    }
   ],
   "source": [
    "head = \"python\"\n",
    "tail = \" is fun\"\n",
    "\n",
    "print(head + tail)    # 문자열 연결하기\n",
    "\n",
    "print(head * 3)      # 문자열 곱하기\n",
    "\n",
    "a = \"life is too short\"\n",
    "len(a)                    # 문자열 길이 구하기"
   ]
  },
  {
   "cell_type": "markdown",
   "metadata": {},
   "source": [
    "**문자열 인덱싱**"
   ]
  },
  {
   "cell_type": "code",
   "execution_count": null,
   "metadata": {},
   "outputs": [
    {
     "name": "stdout",
     "output_type": "stream",
     "text": [
      "L i f e  \n",
      "n o\n",
      "Life\n",
      "20010331\n",
      "Rainy\n"
     ]
    }
   ],
   "source": [
    "a = \"Life is tooshort, You need python\"\n",
    "\n",
    "print(a[0],a[1],a[2],a[3],a[4])  # 문자열의 인덱싱 접근\n",
    "\n",
    "print(a[-1],a[-2])    # 문자열 인덱싱을 -1로 접근\n",
    "\n",
    "print(a[0:4])    # 문자열 슬라이싱\n",
    "\n",
    "\n",
    "a = \"20010331Rainy\"\n",
    "print(a[:8])    #  처음부터 8 전까지의 문자열을 뽑아냄\n",
    "print(a[8:])    #  8부터 끝까지의 문자열을 뽑아냄"
   ]
  },
  {
   "cell_type": "markdown",
   "metadata": {},
   "source": [
    "**문자열 formatting**"
   ]
  },
  {
   "cell_type": "code",
   "execution_count": null,
   "metadata": {},
   "outputs": [
    {
     "name": "stdout",
     "output_type": "stream",
     "text": [
      "I eat 3 apples\n",
      "I eat 3 apples\n",
      "I eat five apples\n",
      "I ate 10 apples, so I was sick for three days.\n"
     ]
    }
   ],
   "source": [
    "print(\"I eat %d apples\"%3)    # %d는 10진수를 나타냄, 문자열 뒤에 숫자형 %3이 %d에 대치되어 표현\n",
    "number = 3\n",
    "print(\"I eat %d apples\"%number)  # %d는 decimal을 의미한다. 문자열 뒤에 %number 숫자형 변수를 %d에 대입해 문자열에 숫자로 나타낼 때 쓰인다.\n",
    "\n",
    "str_five = \"five\"\n",
    "\n",
    "print(\"I eat %s apples\"%str_five)   # %s 는 string을 의미한다. 문자열 뒤에 %str_five 문자열 변수를 넣어 문자열 안에 %s 에 대입되도록 한다.\n",
    "\n",
    "\n",
    "\n",
    "num = 10\n",
    "day = \"three\"\n",
    "\n",
    "print(\"I ate %d apples, so I was sick for %s days.\"%(num,day))"
   ]
  },
  {
   "cell_type": "markdown",
   "metadata": {},
   "source": [
    "**정렬과 공백**"
   ]
  },
  {
   "cell_type": "code",
   "execution_count": null,
   "metadata": {},
   "outputs": [
    {
     "name": "stdout",
     "output_type": "stream",
     "text": [
      "        hi\n",
      "hi        jane\n"
     ]
    }
   ],
   "source": [
    "# %s를 숫자와 함께 사용하면, 공백과 정렬 표현 가능\n",
    "\n",
    "print(\"%10s\"%\"hi\")\n",
    "print(\"%-10sjane\"%\"hi\")"
   ]
  },
  {
   "cell_type": "code",
   "execution_count": null,
   "metadata": {},
   "outputs": [
    {
     "name": "stdout",
     "output_type": "stream",
     "text": [
      "3.4213\n",
      "    3.4213\n"
     ]
    }
   ],
   "source": [
    "# 소수점 표현하기 \n",
    "print(\"%0.4f\"% 3.42134234)      # 소수점 4자리까지 표현\n",
    "print(\"%10.4f\"% 3.42134234)      # 10개의 공간에 숫자를 표현, 소수점은 4자리까지 표현"
   ]
  },
  {
   "cell_type": "code",
   "execution_count": null,
   "metadata": {},
   "outputs": [
    {
     "name": "stdout",
     "output_type": "stream",
     "text": [
      "나의 이름은 홍길동 입니다. 나이는 31 입니다.\n"
     ]
    }
   ],
   "source": [
    "name = '홍길동'\n",
    "age = 30\n",
    "print(f'나의 이름은 {name} 입니다. 나이는 {age+1} 입니다.')    # f 문자열 formatting"
   ]
  },
  {
   "cell_type": "markdown",
   "metadata": {},
   "source": [
    "**문자열 자료형 관련 함수**"
   ]
  },
  {
   "cell_type": "code",
   "execution_count": null,
   "metadata": {},
   "outputs": [
    {
     "data": {
      "text/plain": [
       "2"
      ]
     },
     "metadata": {},
     "output_type": "display_data"
    }
   ],
   "source": [
    "a = 'hobby'     \n",
    "\n",
    "a.count('b')    # count 함수"
   ]
  },
  {
   "cell_type": "code",
   "execution_count": null,
   "metadata": {},
   "outputs": [
    {
     "data": {
      "application/vnd.google.colaboratory.intrinsic+json": {
       "type": "string"
      },
      "text/plain": [
       "'1,2,3,1,4,1,4,2,1,4,5,1,3,4,1,4,a'"
      ]
     },
     "metadata": {},
     "output_type": "display_data"
    }
   ],
   "source": [
    "','.join('1231414214513414a')   # join 함수수"
   ]
  },
  {
   "cell_type": "code",
   "execution_count": null,
   "metadata": {},
   "outputs": [
    {
     "name": "stdout",
     "output_type": "stream",
     "text": [
      "10\n",
      "-1\n"
     ]
    }
   ],
   "source": [
    "a = \"python is best choice\"\n",
    "\n",
    "print(a.find('b'))       # b 의 위치를 반환\n",
    "print(a.find('k'))       # k 의 위치를 반환, k의 위착 없으므로 -1이 반환됨됨"
   ]
  },
  {
   "cell_type": "code",
   "execution_count": null,
   "metadata": {},
   "outputs": [
    {
     "name": "stdout",
     "output_type": "stream",
     "text": [
      "HI\n",
      "hi\n"
     ]
    }
   ],
   "source": [
    "a = 'hi'\n",
    "\n",
    "print(a.upper())   # 소문자를 대문자로 변환\n",
    "\n",
    "b = 'HI'\n",
    "\n",
    "print(b.lower())   # 대문자를 소문자로 변환"
   ]
  },
  {
   "cell_type": "code",
   "execution_count": null,
   "metadata": {},
   "outputs": [
    {
     "data": {
      "application/vnd.google.colaboratory.intrinsic+json": {
       "type": "string"
      },
      "text/plain": [
       "'Your leg is too short'"
      ]
     },
     "metadata": {},
     "output_type": "display_data"
    }
   ],
   "source": [
    "a = \"Life is too short\"\n",
    "a.replace(\"Life\",\"Your leg\")   # replace() 함수를 이용하여 특정 값을 다른 값으로 치환하기기"
   ]
  },
  {
   "cell_type": "code",
   "execution_count": null,
   "metadata": {},
   "outputs": [],
   "source": [
    "a = \"Life is too short\"\n",
    "print(a.split())    # 공백을 기준으로 문자열을 나눔\n",
    "\n",
    "b = \"a:b:c:d\"\n",
    "print(b.split(':')) # :기호를 기준으로 문자열을 나눔"
   ]
  },
  {
   "cell_type": "markdown",
   "metadata": {},
   "source": [
    "# 리스트 자료형"
   ]
  },
  {
   "cell_type": "markdown",
   "metadata": {},
   "source": [
    "**리스트 자료형의 정의**"
   ]
  },
  {
   "cell_type": "code",
   "execution_count": null,
   "metadata": {},
   "outputs": [],
   "source": [
    "# 리스트 안에 어떠한 자료형도 포함 가능\n",
    "a = []\n",
    "b = [1,2,3,4]\n",
    "c = ['Life','is', 'too', 'short']\n",
    "d = [1, 2, 'Life', 'is']\n",
    "e = [1,2,['Life', 'is']]"
   ]
  },
  {
   "cell_type": "code",
   "execution_count": null,
   "metadata": {},
   "outputs": [
    {
     "data": {
      "text/plain": [
       "['Life', 'is']"
      ]
     },
     "metadata": {},
     "output_type": "display_data"
    }
   ],
   "source": [
    "e [2]      # 리스트는 인덱스를 통해 접근 가능함"
   ]
  },
  {
   "cell_type": "code",
   "execution_count": null,
   "metadata": {},
   "outputs": [
    {
     "data": {
      "application/vnd.google.colaboratory.intrinsic+json": {
       "type": "string"
      },
      "text/plain": [
       "'is'"
      ]
     },
     "metadata": {},
     "output_type": "display_data"
    }
   ],
   "source": [
    "d[-1]     # 인덱스 -1은 마지막 요솟값을 가르킴"
   ]
  },
  {
   "cell_type": "code",
   "execution_count": null,
   "metadata": {},
   "outputs": [
    {
     "data": {
      "text/plain": [
       "4"
      ]
     },
     "metadata": {},
     "output_type": "display_data"
    }
   ],
   "source": [
    "b[0] + b[2]     # 리스트 요솟값 간의 덧셈셈"
   ]
  },
  {
   "cell_type": "code",
   "execution_count": null,
   "metadata": {},
   "outputs": [
    {
     "name": "stdout",
     "output_type": "stream",
     "text": [
      "[1, 2, 3, 4, 'Life', 'is', 'too', 'short']\n",
      "[1, 2, 3, 4, 1, 2, 3, 4]\n"
     ]
    }
   ],
   "source": [
    "print(b+c)    # 리스트 합치기\n",
    "print(b*2)    # 리스트 반복\n"
   ]
  },
  {
   "cell_type": "code",
   "execution_count": null,
   "metadata": {},
   "outputs": [
    {
     "name": "stdout",
     "output_type": "stream",
     "text": [
      "[100, 2, 3, 4]\n"
     ]
    }
   ],
   "source": [
    "b[0] = 100    # 리스트 요소값을 수정하기\n",
    "print(b)"
   ]
  },
  {
   "cell_type": "code",
   "execution_count": null,
   "metadata": {},
   "outputs": [],
   "source": [
    "del b[3]     # del 키워드로 리스트 요소 삭제하기기"
   ]
  },
  {
   "cell_type": "code",
   "execution_count": null,
   "metadata": {},
   "outputs": [
    {
     "data": {
      "text/plain": [
       "[100, 2, 3, 50]"
      ]
     },
     "metadata": {},
     "output_type": "display_data"
    }
   ],
   "source": [
    "b.append(50)   # append 내장함수로 리스트 맨 마지막에 50을 추가\n",
    "b"
   ]
  },
  {
   "cell_type": "code",
   "execution_count": null,
   "metadata": {},
   "outputs": [
    {
     "data": {
      "text/plain": [
       "3"
      ]
     },
     "metadata": {},
     "output_type": "display_data"
    }
   ],
   "source": [
    "b.index(50)    # 요소를 검색하여 위치를 반환"
   ]
  },
  {
   "cell_type": "code",
   "execution_count": null,
   "metadata": {},
   "outputs": [
    {
     "data": {
      "text/plain": [
       "[2, 3, 50, 100]"
      ]
     },
     "metadata": {},
     "output_type": "display_data"
    }
   ],
   "source": [
    "b.sort()      # 리스트의 요소를 순서대로 정렬.sort()      # 리스트의 요소를 순서대로 정렬\n",
    "b"
   ]
  },
  {
   "cell_type": "code",
   "execution_count": null,
   "metadata": {},
   "outputs": [
    {
     "data": {
      "text/plain": [
       "[100, 50, 3, 2]"
      ]
     },
     "metadata": {},
     "output_type": "display_data"
    }
   ],
   "source": [
    "b.reverse()     # 리스트를 역순으로 뒤집어줌\n",
    "b"
   ]
  },
  {
   "cell_type": "code",
   "execution_count": null,
   "metadata": {},
   "outputs": [
    {
     "data": {
      "text/plain": [
       "[100, 4, 50, 3, 2]"
      ]
     },
     "metadata": {},
     "output_type": "display_data"
    }
   ],
   "source": [
    "b.insert(1,4)      # 리스트에 요소 삽입,   인덱스 1 자리에 4를 삽입\n",
    "b"
   ]
  },
  {
   "cell_type": "code",
   "execution_count": null,
   "metadata": {},
   "outputs": [
    {
     "data": {
      "text/plain": [
       "[4, 50, 3, 2]"
      ]
     },
     "metadata": {},
     "output_type": "display_data"
    }
   ],
   "source": [
    "b.remove(100)   # 리스트에서 첫번째로 나오는 데이터를 삭제\n",
    "b"
   ]
  },
  {
   "cell_type": "code",
   "execution_count": null,
   "metadata": {},
   "outputs": [
    {
     "data": {
      "text/plain": [
       "[4, 50, 3, 2, 5, 6, 7, 8]"
      ]
     },
     "metadata": {},
     "output_type": "display_data"
    }
   ],
   "source": [
    "b.extend([5,6,7,8,])   # 리스트 확장하기\n",
    "b"
   ]
  },
  {
   "cell_type": "code",
   "execution_count": null,
   "metadata": {},
   "outputs": [],
   "source": []
  }
 ],
 "metadata": {
  "language_info": {
   "name": "python"
  }
 },
 "nbformat": 4,
 "nbformat_minor": 2
}
